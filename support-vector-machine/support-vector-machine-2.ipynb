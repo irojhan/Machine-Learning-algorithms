{
  "nbformat": 4,
  "nbformat_minor": 0,
  "metadata": {
    "colab": {
      "name": "hw4_Q2_hi3334.ipynb",
      "provenance": [],
      "collapsed_sections": []
    },
    "kernelspec": {
      "name": "python3",
      "display_name": "Python 3"
    },
    "language_info": {
      "name": "python"
    },
    "accelerator": "GPU"
  },
  "cells": [
    {
      "cell_type": "code",
      "execution_count": 2,
      "metadata": {
        "colab": {
          "base_uri": "https://localhost:8080/"
        },
        "id": "SA-Taq0-_BKP",
        "outputId": "fcc6cd56-8f09-4856-dd56-2b1afc0a1331"
      },
      "outputs": [
        {
          "output_type": "stream",
          "name": "stdout",
          "text": [
            "[LibSVM][LibSVM][LibSVM][LibSVM][LibSVM][LibSVM][LibSVM][LibSVM][LibSVM][LibSVM][LibSVM][LibSVM][LibSVM][LibSVM][LibSVM][LibSVM][LibSVM][LibSVM][LibSVM][LibSVM][LibSVM][LibSVM][LibSVM][LibSVM][LibSVM][LibSVM][LibSVM][LibSVM][LibSVM][LibSVM][LibSVM][LibSVM][LibSVM][LibSVM][LibSVM][LibSVM][LibSVM][LibSVM][LibSVM][LibSVM][LibSVM][LibSVM][LibSVM][LibSVM][LibSVM][LibSVM][LibSVM][LibSVM][LibSVM][LibSVM][LibSVM][LibSVM][LibSVM][LibSVM][LibSVM][LibSVM][LibSVM][LibSVM][LibSVM][LibSVM][LibSVM][LibSVM][LibSVM][LibSVM][LibSVM][LibSVM][LibSVM][LibSVM][LibSVM][LibSVM][LibSVM][LibSVM][LibSVM][LibSVM][LibSVM][LibSVM][LibSVM][LibSVM][LibSVM][LibSVM][[92  0  1  1  1  4  1]\n",
            " [ 2 22  1  0  0  0  0]\n",
            " [ 2  0 22  1  0  0  0]\n",
            " [ 1  0  3 18  3  0  0]\n",
            " [ 2  0  0  1 22  0  0]\n",
            " [ 0  0  0  0  0 25  0]\n",
            " [ 3  0  0  0  0  0 22]]\n"
          ]
        }
      ],
      "source": [
        "import pandas as pd\n",
        "import numpy as np\n",
        "from sklearn.svm import SVC \n",
        "\n",
        "trainset = pd.read_csv('SPC-Training.csv', header = None)\n",
        "testset = pd.read_csv('SPC-Testing.csv', header = None)\n",
        "trainset['target']= trainset.iloc[:,10:].idxmax(axis=1)\n",
        "testset['target']= testset.iloc[:,10:].idxmax(axis=1)\n",
        "\n",
        "clf = SVC(gamma='auto')\n",
        "clf.fit(trainset.iloc[:,:10], trainset.target)\n",
        "clf.score(trainset.iloc[:,:10], trainset.target)\n",
        "report = pd.DataFrame(np.zeros((90,6)), columns=['kernel','degree','c_searchline', 'num_of_vectors','score_train', 'score_test'])\n",
        "Kernels =['poly','linear', 'rbf', 'sigmoid']\n",
        "c_searchline = [.015, .01 , 0.25, 0.3, 0.4]\n",
        "degrees =[2,3,4,5]\n",
        "index = 0 \n",
        "\n",
        "for c in c_searchline : \n",
        "    for k in Kernels :         \n",
        "        for deg in degrees:\n",
        "            \n",
        "            model = SVC(gamma='auto', C = c, kernel = k , degree = deg , verbose = True , decision_function_shape = 'ovr')\n",
        "            index+=1\n",
        "    \n",
        "            model.fit(trainset.iloc[:,:10] ,trainset.target)\n",
        "            nSV= len(model.support_)\n",
        "            score_train =  model.score(trainset.iloc[:,:10], trainset.target)\n",
        "            score_test =  model.score(testset.iloc[:,:10] ,testset.target)\n",
        "            report.iloc[index]= [k,deg,c,nSV, score_train , score_test]\n",
        "            \n",
        "final_model = SVC(C=0.2 , kernel ='poly', degree= 2, decision_function_shape='ovr')\n",
        "final_model.fit(trainset.iloc[:,:10], trainset.target)\n",
        "testset['predict']= final_model.predict(testset.iloc[:,:10])\n",
        "from sklearn.metrics import confusion_matrix        \n",
        "print (confusion_matrix(testset.target,testset.predict))\n",
        "        "
      ]
    },
    {
      "cell_type": "code",
      "source": [
        "final_model = SVC(C=0.2 , kernel ='rbf', degree= 2, decision_function_shape='ovr')\n",
        "final_model.fit(trainset.iloc[:,:10], trainset.target)\n",
        "testset['predict']= final_model.predict(testset.iloc[:,:10])\n",
        "from sklearn.metrics import confusion_matrix        \n",
        "print (confusion_matrix(testset.target,testset.predict))"
      ],
      "metadata": {
        "colab": {
          "base_uri": "https://localhost:8080/"
        },
        "id": "BgseDLsm_6Jq",
        "outputId": "8074ca58-d679-4b71-f620-af741ec495ba"
      },
      "execution_count": 3,
      "outputs": [
        {
          "output_type": "stream",
          "name": "stdout",
          "text": [
            "[[94  0  1  2  1  0  2]\n",
            " [17  7  1  0  0  0  0]\n",
            " [16  0  8  1  0  0  0]\n",
            " [ 6  0  0 17  2  0  0]\n",
            " [ 3  0  0  1 21  0  0]\n",
            " [ 0  0  0  0  0 25  0]\n",
            " [ 0  0  0  0  0  0 25]]\n"
          ]
        }
      ]
    },
    {
      "cell_type": "code",
      "source": [
        "final_model = SVC(C=0.2 , kernel ='sigmoid', degree= 2, decision_function_shape='ovr')\n",
        "final_model.fit(trainset.iloc[:,:10], trainset.target)\n",
        "testset['predict']= final_model.predict(testset.iloc[:,:10])\n",
        "from sklearn.metrics import confusion_matrix        \n",
        "print (confusion_matrix(testset.target,testset.predict))"
      ],
      "metadata": {
        "colab": {
          "base_uri": "https://localhost:8080/"
        },
        "id": "rLLh06lQADf8",
        "outputId": "077a0f5f-2b51-4dae-fd1a-d6ec36adf9c6"
      },
      "execution_count": 4,
      "outputs": [
        {
          "output_type": "stream",
          "name": "stdout",
          "text": [
            "[[100   0   0   0   0   0   0]\n",
            " [ 25   0   0   0   0   0   0]\n",
            " [ 25   0   0   0   0   0   0]\n",
            " [ 25   0   0   0   0   0   0]\n",
            " [ 25   0   0   0   0   0   0]\n",
            " [ 25   0   0   0   0   0   0]\n",
            " [ 25   0   0   0   0   0   0]]\n"
          ]
        }
      ]
    },
    {
      "cell_type": "code",
      "source": [
        "final_model = SVC(C=0.2 , kernel ='linear', degree= 2, decision_function_shape='ovr')\n",
        "final_model.fit(trainset.iloc[:,:10], trainset.target)\n",
        "testset['predict']= final_model.predict(testset.iloc[:,:10])\n",
        "from sklearn.metrics import confusion_matrix        \n",
        "print (confusion_matrix(testset.target,testset.predict))"
      ],
      "metadata": {
        "colab": {
          "base_uri": "https://localhost:8080/"
        },
        "id": "yKhliPeLAJmQ",
        "outputId": "0e3dd06d-4f2f-4ba2-dc20-1a52b5d177b9"
      },
      "execution_count": 5,
      "outputs": [
        {
          "output_type": "stream",
          "name": "stdout",
          "text": [
            "[[100   0   0   0   0   0   0]\n",
            " [ 25   0   0   0   0   0   0]\n",
            " [ 25   0   0   0   0   0   0]\n",
            " [ 25   0   0   0   0   0   0]\n",
            " [ 25   0   0   0   0   0   0]\n",
            " [ 25   0   0   0   0   0   0]\n",
            " [ 25   0   0   0   0   0   0]]\n"
          ]
        }
      ]
    }
  ]
}